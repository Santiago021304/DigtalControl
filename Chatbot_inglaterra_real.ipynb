{
  "nbformat": 4,
  "nbformat_minor": 0,
  "metadata": {
    "colab": {
      "provenance": [],
      "authorship_tag": "ABX9TyPvF5KgD8oyNfMmDv0r2qw0",
      "include_colab_link": true
    },
    "kernelspec": {
      "name": "python3",
      "display_name": "Python 3"
    },
    "language_info": {
      "name": "python"
    }
  },
  "cells": [
    {
      "cell_type": "markdown",
      "metadata": {
        "id": "view-in-github",
        "colab_type": "text"
      },
      "source": [
        "<a href=\"https://colab.research.google.com/github/Santiago021304/DigtalControl/blob/main/Chatbot_inglaterra_real.ipynb\" target=\"_parent\"><img src=\"https://colab.research.google.com/assets/colab-badge.svg\" alt=\"Open In Colab\"/></a>"
      ]
    },
    {
      "cell_type": "code",
      "metadata": {
        "id": "43b89e7a"
      },
      "source": [
        "def chatbot():\n",
        "  print(\"¡Hola! Soy un chatbot. Puedes realizarme las siguientes preguntas:\")\n",
        "  preguntas=[\"¿Que es la robotica?\",\n",
        "             \"¿Como se puede aplicar la robotica?\",\n",
        "             \"¿Como se llaman los profesores de robotica?\"]\n",
        "  respuestas=[\"La robótica es la rama de la ingeniería que se ocupa del diseño, construcción, operación, estructuración, manufactura y aplicación de los robots.\",\n",
        "  \"La robótica se puede aplicar en diversas áreas, como la industria, la medicina, la exploración espacial, la educación y el hogar.\",\n",
        "  \"Los profesores de robótica se llaman Tito Nuncira y Santiago Moreno\"]\n",
        "\n",
        "  for i in range(len(preguntas)):\n",
        "    print(preguntas[i])\n",
        "\n",
        "  while True:\n",
        "    user_input = input(\"> \")\n",
        "    question = user_input.lower() # Convertir a minúsculas para facilitar la comparación\n",
        "\n",
        "    if question == \"adios\" or question == \"chao\" or question == \"hasta luego\":\n",
        "      print(\"¡Hasta luego! ¡Que tengas un buen día!\")\n",
        "      break\n",
        "    elif question == \"hola\" or question == \"buenos dias\" or question == \"buenas tardes\" or question == \"buenas noches\":\n",
        "      print(\"¡Hola! ¿En qué puedo ayudarte?\")\n",
        "    else:\n",
        "      try:\n",
        "        # Buscar la pregunta en la lista de preguntas y dar la respuesta correspondiente\n",
        "        index = preguntas.index(user_input) # Usar user_input directamente para coincidencia exacta con las preguntas mostradas\n",
        "        print(respuestas[index])\n",
        "      except ValueError:\n",
        "        print(\"Lo siento, no tengo respuesta para esa pregunta en este momento.\")"
      ],
      "execution_count": 21,
      "outputs": []
    },
    {
      "cell_type": "code",
      "source": [
        "chatbot()"
      ],
      "metadata": {
        "colab": {
          "base_uri": "https://localhost:8080/"
        },
        "id": "5cdlw8sEHkQE",
        "outputId": "214d065a-f8e5-48bb-c9fd-737a7ab4d369"
      },
      "execution_count": 22,
      "outputs": [
        {
          "output_type": "stream",
          "name": "stdout",
          "text": [
            "¡Hola! Soy un chatbot. Puedes realizarme las siguientes preguntas:\n",
            "¿Que es la robotica?\n",
            "¿Como se puede aplicar la robotica?\n",
            "¿Como se llaman los profesores de robotica?\n",
            "> ¿Como se llaman los profesores de robotica?\n",
            "Los profesores de robótica se llaman Tito Nuncira y Santiago Moreno\n",
            "> adios\n",
            "¡Hasta luego! ¡Que tengas un buen día!\n"
          ]
        }
      ]
    },
    {
      "cell_type": "code",
      "metadata": {
        "id": "864979f2"
      },
      "source": [
        "knowledge_base = {\n",
        "    \"¿Que es la robotica?\": \"La robótica es la rama de la ingeniería que se ocupa del diseño, construcción, operación, estructuración, manufactura y aplicación de los robots.\",\n",
        "    \"¿Como se puede aplicar la robotica?\": {\"¿En que campo te gustaria saber?\": {\n",
        "        \"En la industria\": \"En la industria, la robótica se utiliza para automatizar tareas repetitivas, peligrosas o de alta precisión, como soldadura, ensamblaje y manipulación de materiales.\",\n",
        "        \"En la medicina\": \"En medicina, los robots asisten en cirugías de precisión, rehabilitación y dispensación de medicamentos.\",\n",
        "        \"En la exploracion espacial\": \"En la exploración espacial, se emplean robots para explorar entornos hostiles, recoger muestras y realizar reparaciones.\",\n",
        "        \"En la educacion\": \"En educación, la robótica se usa para enseñar programación, ingeniería y resolución de problemas.\",\n",
        "        \"En el hogar\": \"En el hogar, los robots realizan tareas como limpieza, cocina y asistencia a personas mayores.\",\n",
        "    }},\n",
        "    \"¿Como se llaman los profesores de robotica?\": \"Los profesores de robótica se llaman Tito Nuncira y Santiago Moreno\",\n",
        "    \"Adios\": \"¡Hasta luego! ¡Que tengas un buen día!\"\n",
        "}"
      ],
      "execution_count": 45,
      "outputs": []
    },
    {
      "cell_type": "code",
      "metadata": {
        "id": "0fdf16ae"
      },
      "source": [
        "def chatbot():\n",
        "    print(\"¡Hola! Soy un chatbot. Puedes realizarme las siguientes preguntas:\")\n",
        "    current_level = knowledge_base\n",
        "    navigation_history = [] # Initialize navigation history\n",
        "\n",
        "    while True:\n",
        "        if isinstance(current_level, dict):\n",
        "            print(\"\\nPor favor, selecciona una opción:\")\n",
        "            options = list(current_level.keys())\n",
        "            for i, option in enumerate(options):\n",
        "                print(f\"{i + 1}. {option}\")\n",
        "\n",
        "            # Add back option if not at the main menu\n",
        "            if navigation_history:\n",
        "                print(\"0. Volver al menú anterior\")\n",
        "\n",
        "            user_input = input(\"> \").strip()\n",
        "            question_lower = user_input.lower()\n",
        "\n",
        "            if question_lower in [\"adios\", \"chao\", \"hasta luego\"]:\n",
        "                print(\"¡Hasta luego! ¡Que tengas un buen día!\")\n",
        "                break\n",
        "            elif question_lower in [\"hola\", \"buenos dias\", \"buenas tardes\", \"buenas noches\"]:\n",
        "                print(\"¡Hola! ¿En qué puedo ayudarte?\")\n",
        "            elif user_input == \"0\" and navigation_history: # Handle back option\n",
        "                current_level = navigation_history.pop()\n",
        "                print(\"Has regresado al menú anterior.\")\n",
        "            else:\n",
        "                try:\n",
        "                    # Check if input is a number corresponding to an option\n",
        "                    option_index = int(user_input) - 1\n",
        "                    if 0 <= option_index < len(options):\n",
        "                        navigation_history.append(current_level) # Add current level to history\n",
        "                        selected_option = options[option_index]\n",
        "                        current_level = current_level[selected_option]\n",
        "                    else:\n",
        "                        print(\"Opción inválida. Por favor, elige un número de la lista.\")\n",
        "                except ValueError:\n",
        "                    # Check if input matches a menu option directly (case-insensitive)\n",
        "                    found_match = False\n",
        "                    for option in options:\n",
        "                        if question_lower == option.lower():\n",
        "                            navigation_history.append(current_level) # Add current level to history\n",
        "                            current_level = current_level[option]\n",
        "                            found_match = True\n",
        "                            break\n",
        "                    if not found_match:\n",
        "                        print(\"Lo siento, no entendí tu selección. Por favor, intenta de nuevo ingresando el número o el texto de la opción.\")\n",
        "        elif isinstance(current_level, str):\n",
        "            print(current_level)\n",
        "            current_level = navigation_history.pop() if navigation_history else knowledge_base # Return to previous level or main menu"
      ],
      "execution_count": 38,
      "outputs": []
    },
    {
      "cell_type": "code",
      "metadata": {
        "colab": {
          "base_uri": "https://localhost:8080/"
        },
        "id": "8400249f",
        "outputId": "5114eec9-ed48-4160-f5d9-ff97f883c3de"
      },
      "source": [
        "chatbot()"
      ],
      "execution_count": 39,
      "outputs": [
        {
          "output_type": "stream",
          "name": "stdout",
          "text": [
            "¡Hola! Soy un chatbot. Puedes realizarme las siguientes preguntas:\n",
            "\n",
            "Por favor, selecciona una opción:\n",
            "1. ¿Que es la robotica?\n",
            "2. ¿Como se puede aplicar la robotica?\n",
            "3. ¿Como se llaman los profesores de robotica?\n",
            "4. Adios\n",
            "> 4\n",
            "¡Hasta luego! ¡Que tengas un buen día!\n",
            "\n",
            "Por favor, selecciona una opción:\n",
            "1. ¿Que es la robotica?\n",
            "2. ¿Como se puede aplicar la robotica?\n",
            "3. ¿Como se llaman los profesores de robotica?\n",
            "4. Adios\n",
            "> adios\n",
            "¡Hasta luego! ¡Que tengas un buen día!\n"
          ]
        }
      ]
    },
    {
      "cell_type": "code",
      "source": [
        "knowledge_base2 = {\n",
        "    \"pregunta\": \"¿Sobre qué tema quieres saber?\",\n",
        "    \"opciones\": {\n",
        "        \"Robotica\":{\n",
        "            \"pregunta\": \"¿Qué quieres conocer de la robotica?\",\n",
        "            \"opciones\":{\n",
        "                \"¿Que es la robotica?\": \"La robótica es la rama de la ingeniería que se ocupa del diseño, construcción, operación, estructuración, manufactura y aplicación de los robots.\",\n",
        "                \"¿Como se puede aplicar la robotica?\": {\n",
        "                    \"pregunta\":\"En que campo te gustaria saber:\",\n",
        "                    \"opciones\":{\n",
        "                        \"En la industria\": \"En la industria, la robótica se utiliza para automatizar tareas repetitivas, peligrosas o de alta precisión, como soldadura, ensamblaje y manipulación de materiales.\",\n",
        "                        \"En la medicina\": \"En medicina, los robots asisten en cirugías de precisión, rehabilitación y dispensación de medicamentos.\",\n",
        "                        \"En la exploracion espacial\": \"En la exploración espacial, se emplean robots para explorar entornos hostiles, recoger muestras y realizar reparaciones.\",\n",
        "                        \"En la educacion\": \"En educación, la robótica se usa para enseñar programación, ingeniería y resolución de problemas.\",\n",
        "                        \"En el hogar\": \"En el hogar, los robots realizan tareas como limpieza, cocina y asistencia a personas mayores.\"\n",
        "                    }\n",
        "                },\n",
        "                \"¿Como se llaman los profesores de robotica?\": \"Los profesores de robótica se llaman Tito Nuncira\"\n",
        "            }\n",
        "        },\n",
        "        \"Inteligencia artificial\": {\n",
        "            \"pregunta\": \"¿Qué área de la IA te interesa?\",\n",
        "            \"opciones\": {\n",
        "                \"Visión por computadora\": \"Permite a las máquinas interpretar imágenes.\",\n",
        "                \"Procesamiento del lenguaje natural\": \"Hace que las máquinas entiendan el lenguaje humano.\",\n",
        "                \"Aprendizaje automático\": \"Permite que las máquinas aprendan de los datos.\"\n",
        "            }\n",
        "        },\n",
        "        \"Comprar celulares\":{\n",
        "            \"pregunta\": \"¿Que celular quieres comprar?\",\n",
        "            \"opciones\":{\n",
        "                \"iPhone\":{\n",
        "                    \"pregunta\": \"Te ofrezco los siguientes modelos de iPhone:\",\n",
        "                    \"opciones\":{\n",
        "                        \"iPhone 14 Pro max\":\"Tiene un costo de $6.000.000 pesos colombianos.\",\n",
        "                        \"iPhone 14 Pro\":\"Tiene un costo de $5.000.000 pesos colombianos.\",\n",
        "                        \"iPhone 13\":\"Tiene un costo de $4.000.000 pesos colombianos.\",\n",
        "                        \"iPhone 12\":\"Tiene un costo de $3.000.000 pesos colombianos.\"\n",
        "                    }\n",
        "                    },\n",
        "                \"Samsung\":{\n",
        "                    \"pregunta\": \"Te ofrezco los siguientes modelos de Samsung:\",\n",
        "                    \"opciones\":{\n",
        "                        \"Samsung Galaxy S23\":\"Tiene un costo de $6.000.000 pesos colombianos.\",\n",
        "                        \"Samsung Galaxy S22\":\"Tiene un costo de $5.000.000 pesos colombianos.\",\n",
        "                        \"Samsung Galaxy S21\":\"Tiene un costo de $4.000.000 pesos colombianos.\",\n",
        "                        \"Samsung Galaxy S20\":\"Tiene un costo de $3.000.000 pesos colombianos.\"\n",
        "                    }\n",
        "                },\n",
        "                \"Redmi\":{\n",
        "                    \"pregunta\": \"Te ofrezco los siguientes modelos de Redmi:\",\n",
        "                    \"opciones\":{\n",
        "                        \"Redmi Note 11 Pro\":\"Tiene un costo de $6.000.000 pesos colombianos.\",\n",
        "                        \"Redmi Note 11\":\"Tiene un costo de $5.000.000 pesos colombianos.\",\n",
        "                        \"Redmi Note 10\":\"Tiene un costo de $4.000.000 pesos colombianos.\",\n",
        "                        \"Redmi Note 9\":\"Tiene un costo de $3.000.000 pesos colombianos.\"\n",
        "                    }\n",
        "                }\n",
        "            }\n",
        "        }\n",
        "    }\n",
        "}\n"
      ],
      "metadata": {
        "id": "SJSHj4ZOTJ5m"
      },
      "execution_count": 65,
      "outputs": []
    },
    {
      "cell_type": "code",
      "source": [
        "def chatbot2():\n",
        "    print(\"¡Hola! Soy un chatbot. Escribe el nombre exacto de una opción para continuar.\")\n",
        "\n",
        "    current_node = knowledge_base2\n",
        "    navigation_history = []\n",
        "\n",
        "    while True:\n",
        "        # Si el nodo es un diccionario con pregunta y opciones\n",
        "        if isinstance(current_node, dict) and \"pregunta\" in current_node and \"opciones\" in current_node:\n",
        "            print(f\"\\n{current_node['pregunta']}\")\n",
        "\n",
        "            for option in current_node[\"opciones\"].keys():\n",
        "                print(f\"- {option}\")\n",
        "\n",
        "            if navigation_history:\n",
        "                print(\"- Volver\")\n",
        "            print(\"- Salir\")\n",
        "\n",
        "            user_input = input(\"> \").strip().lower()\n",
        "\n",
        "            if user_input in [\"salir\", \"adios\", \"chao\", \"hasta luego\"]:\n",
        "                print(\"¡Hasta luego! ¡Que tengas un buen día!\")\n",
        "                break\n",
        "            elif user_input == \"volver\" and navigation_history:\n",
        "                current_node = navigation_history.pop()\n",
        "            else:\n",
        "                found = False\n",
        "                for key in current_node[\"opciones\"]:\n",
        "                    if user_input == key.lower():\n",
        "                        navigation_history.append(current_node)\n",
        "                        current_node = current_node[\"opciones\"][key]\n",
        "                        found = True\n",
        "                        break\n",
        "                if not found:\n",
        "                    print(\"No encontré esa opción. Intenta escribir el texto exactamente como aparece.\")\n",
        "\n",
        "        # Si el nodo es una respuesta final (cadena)\n",
        "        elif isinstance(current_node, str):\n",
        "            print(\"\\n\" + current_node)\n",
        "            current_node = navigation_history.pop() if navigation_history else knowledge_base\n"
      ],
      "metadata": {
        "id": "f9BVZql7RTw0"
      },
      "execution_count": 66,
      "outputs": []
    },
    {
      "cell_type": "code",
      "source": [
        "chatbot2()"
      ],
      "metadata": {
        "colab": {
          "base_uri": "https://localhost:8080/"
        },
        "id": "gSx2DAuARfcj",
        "outputId": "05e3075e-043f-42ba-db43-71d991ccffd9"
      },
      "execution_count": 67,
      "outputs": [
        {
          "output_type": "stream",
          "name": "stdout",
          "text": [
            "¡Hola! Soy un chatbot. Escribe el nombre exacto de una opción para continuar.\n",
            "\n",
            "¿Sobre qué tema quieres saber?\n",
            "- Robotica\n",
            "- Inteligencia artificial\n",
            "- Comprar celulares\n",
            "- Salir\n",
            "> comprar celulares\n",
            "\n",
            "¿Que celular quieres comprar?\n",
            "- iPhone\n",
            "- Samsung\n",
            "- Redmi\n",
            "- Volver\n",
            "- Salir\n",
            "> iphone\n",
            "\n",
            "Te ofrezco los siguientes modelos de iPhone:\n",
            "- iPhone 14 Pro max\n",
            "- iPhone 14 Pro\n",
            "- iPhone 13\n",
            "- iPhone 12\n",
            "- Volver\n",
            "- Salir\n",
            "> iphone 12\n",
            "\n",
            "Tiene un costo de $3.000.000 pesos colombianos.\n",
            "\n",
            "Te ofrezco los siguientes modelos de iPhone:\n",
            "- iPhone 14 Pro max\n",
            "- iPhone 14 Pro\n",
            "- iPhone 13\n",
            "- iPhone 12\n",
            "- Volver\n",
            "- Salir\n",
            "> volver\n",
            "\n",
            "¿Que celular quieres comprar?\n",
            "- iPhone\n",
            "- Samsung\n",
            "- Redmi\n",
            "- Volver\n",
            "- Salir\n",
            "> redmi\n",
            "\n",
            "Te ofrezco los siguientes modelos de Redmi:\n",
            "- Redmi Note 11 Pro\n",
            "- Redmi Note 11\n",
            "- Redmi Note 10\n",
            "- Redmi Note 9\n",
            "- Volver\n",
            "- Salir\n",
            "> redmi note 11 pro\n",
            "\n",
            "Tiene un costo de $6.000.000 pesos colombianos.\n",
            "\n",
            "Te ofrezco los siguientes modelos de Redmi:\n",
            "- Redmi Note 11 Pro\n",
            "- Redmi Note 11\n",
            "- Redmi Note 10\n",
            "- Redmi Note 9\n",
            "- Volver\n",
            "- Salir\n",
            "> salir\n",
            "¡Hasta luego! ¡Que tengas un buen día!\n"
          ]
        }
      ]
    }
  ]
}